{
 "cells": [
  {
   "cell_type": "code",
   "execution_count": 1,
   "id": "95bf7e59",
   "metadata": {},
   "outputs": [],
   "source": [
    "import pandas as pd\n",
    "import numpy as np"
   ]
  },
  {
   "cell_type": "code",
   "execution_count": 2,
   "id": "ff9b851e",
   "metadata": {},
   "outputs": [
    {
     "name": "stderr",
     "output_type": "stream",
     "text": [
      "C:\\Users\\HP\\anaconda3\\lib\\site-packages\\IPython\\core\\interactiveshell.py:3444: FutureWarning: The error_bad_lines argument has been deprecated and will be removed in a future version.\n",
      "\n",
      "\n",
      "  exec(code_obj, self.user_global_ns, self.user_ns)\n"
     ]
    },
    {
     "data": {
      "text/html": [
       "<div>\n",
       "<style scoped>\n",
       "    .dataframe tbody tr th:only-of-type {\n",
       "        vertical-align: middle;\n",
       "    }\n",
       "\n",
       "    .dataframe tbody tr th {\n",
       "        vertical-align: top;\n",
       "    }\n",
       "\n",
       "    .dataframe thead th {\n",
       "        text-align: right;\n",
       "    }\n",
       "</style>\n",
       "<table border=\"1\" class=\"dataframe\">\n",
       "  <thead>\n",
       "    <tr style=\"text-align: right;\">\n",
       "      <th></th>\n",
       "      <th>record_id</th>\n",
       "      <th>utility_id_ferc1</th>\n",
       "      <th>report_year</th>\n",
       "      <th>plant_name_ferc1</th>\n",
       "      <th>fuel_type_code_pudl</th>\n",
       "      <th>fuel_unit</th>\n",
       "      <th>fuel_qty_burned</th>\n",
       "      <th>fuel_mmbtu_per_unit</th>\n",
       "      <th>fuel_cost_per_unit_burned</th>\n",
       "      <th>fuel_cost_per_unit_delivered</th>\n",
       "      <th>fuel_cost_per_mmbtu</th>\n",
       "    </tr>\n",
       "  </thead>\n",
       "  <tbody>\n",
       "    <tr>\n",
       "      <th>count</th>\n",
       "      <td>29523</td>\n",
       "      <td>29523.000000</td>\n",
       "      <td>29523.000000</td>\n",
       "      <td>29523</td>\n",
       "      <td>29523</td>\n",
       "      <td>29343</td>\n",
       "      <td>2.952300e+04</td>\n",
       "      <td>29523.000000</td>\n",
       "      <td>29523.000000</td>\n",
       "      <td>2.952300e+04</td>\n",
       "      <td>29523.000000</td>\n",
       "    </tr>\n",
       "    <tr>\n",
       "      <th>unique</th>\n",
       "      <td>29523</td>\n",
       "      <td>NaN</td>\n",
       "      <td>NaN</td>\n",
       "      <td>2315</td>\n",
       "      <td>6</td>\n",
       "      <td>9</td>\n",
       "      <td>NaN</td>\n",
       "      <td>NaN</td>\n",
       "      <td>NaN</td>\n",
       "      <td>NaN</td>\n",
       "      <td>NaN</td>\n",
       "    </tr>\n",
       "    <tr>\n",
       "      <th>top</th>\n",
       "      <td>f1_fuel_1994_12_1_0_7</td>\n",
       "      <td>NaN</td>\n",
       "      <td>NaN</td>\n",
       "      <td>big stone</td>\n",
       "      <td>gas</td>\n",
       "      <td>mcf</td>\n",
       "      <td>NaN</td>\n",
       "      <td>NaN</td>\n",
       "      <td>NaN</td>\n",
       "      <td>NaN</td>\n",
       "      <td>NaN</td>\n",
       "    </tr>\n",
       "    <tr>\n",
       "      <th>freq</th>\n",
       "      <td>1</td>\n",
       "      <td>NaN</td>\n",
       "      <td>NaN</td>\n",
       "      <td>156</td>\n",
       "      <td>11486</td>\n",
       "      <td>11354</td>\n",
       "      <td>NaN</td>\n",
       "      <td>NaN</td>\n",
       "      <td>NaN</td>\n",
       "      <td>NaN</td>\n",
       "      <td>NaN</td>\n",
       "    </tr>\n",
       "    <tr>\n",
       "      <th>mean</th>\n",
       "      <td>NaN</td>\n",
       "      <td>118.601836</td>\n",
       "      <td>2005.806050</td>\n",
       "      <td>NaN</td>\n",
       "      <td>NaN</td>\n",
       "      <td>NaN</td>\n",
       "      <td>2.622119e+06</td>\n",
       "      <td>8.492111</td>\n",
       "      <td>208.649031</td>\n",
       "      <td>9.175704e+02</td>\n",
       "      <td>19.304354</td>\n",
       "    </tr>\n",
       "    <tr>\n",
       "      <th>std</th>\n",
       "      <td>NaN</td>\n",
       "      <td>74.178353</td>\n",
       "      <td>7.025483</td>\n",
       "      <td>NaN</td>\n",
       "      <td>NaN</td>\n",
       "      <td>NaN</td>\n",
       "      <td>9.118004e+06</td>\n",
       "      <td>10.600220</td>\n",
       "      <td>2854.490090</td>\n",
       "      <td>6.877593e+04</td>\n",
       "      <td>2091.540939</td>\n",
       "    </tr>\n",
       "    <tr>\n",
       "      <th>min</th>\n",
       "      <td>NaN</td>\n",
       "      <td>1.000000</td>\n",
       "      <td>1994.000000</td>\n",
       "      <td>NaN</td>\n",
       "      <td>NaN</td>\n",
       "      <td>NaN</td>\n",
       "      <td>1.000000e+00</td>\n",
       "      <td>0.000001</td>\n",
       "      <td>-276.080000</td>\n",
       "      <td>-8.749370e+02</td>\n",
       "      <td>-41.501000</td>\n",
       "    </tr>\n",
       "    <tr>\n",
       "      <th>25%</th>\n",
       "      <td>NaN</td>\n",
       "      <td>55.000000</td>\n",
       "      <td>2000.000000</td>\n",
       "      <td>NaN</td>\n",
       "      <td>NaN</td>\n",
       "      <td>NaN</td>\n",
       "      <td>1.381700e+04</td>\n",
       "      <td>1.024000</td>\n",
       "      <td>5.207000</td>\n",
       "      <td>3.778500e+00</td>\n",
       "      <td>1.940000</td>\n",
       "    </tr>\n",
       "    <tr>\n",
       "      <th>50%</th>\n",
       "      <td>NaN</td>\n",
       "      <td>122.000000</td>\n",
       "      <td>2006.000000</td>\n",
       "      <td>NaN</td>\n",
       "      <td>NaN</td>\n",
       "      <td>NaN</td>\n",
       "      <td>2.533220e+05</td>\n",
       "      <td>5.762694</td>\n",
       "      <td>26.000000</td>\n",
       "      <td>1.737100e+01</td>\n",
       "      <td>4.127000</td>\n",
       "    </tr>\n",
       "    <tr>\n",
       "      <th>75%</th>\n",
       "      <td>NaN</td>\n",
       "      <td>176.000000</td>\n",
       "      <td>2012.000000</td>\n",
       "      <td>NaN</td>\n",
       "      <td>NaN</td>\n",
       "      <td>NaN</td>\n",
       "      <td>1.424034e+06</td>\n",
       "      <td>17.006000</td>\n",
       "      <td>47.113000</td>\n",
       "      <td>4.213700e+01</td>\n",
       "      <td>7.745000</td>\n",
       "    </tr>\n",
       "    <tr>\n",
       "      <th>max</th>\n",
       "      <td>NaN</td>\n",
       "      <td>514.000000</td>\n",
       "      <td>2018.000000</td>\n",
       "      <td>NaN</td>\n",
       "      <td>NaN</td>\n",
       "      <td>NaN</td>\n",
       "      <td>5.558942e+08</td>\n",
       "      <td>341.260000</td>\n",
       "      <td>139358.000000</td>\n",
       "      <td>7.964521e+06</td>\n",
       "      <td>359278.000000</td>\n",
       "    </tr>\n",
       "  </tbody>\n",
       "</table>\n",
       "</div>"
      ],
      "text/plain": [
       "                    record_id  utility_id_ferc1   report_year  \\\n",
       "count                   29523      29523.000000  29523.000000   \n",
       "unique                  29523               NaN           NaN   \n",
       "top     f1_fuel_1994_12_1_0_7               NaN           NaN   \n",
       "freq                        1               NaN           NaN   \n",
       "mean                      NaN        118.601836   2005.806050   \n",
       "std                       NaN         74.178353      7.025483   \n",
       "min                       NaN          1.000000   1994.000000   \n",
       "25%                       NaN         55.000000   2000.000000   \n",
       "50%                       NaN        122.000000   2006.000000   \n",
       "75%                       NaN        176.000000   2012.000000   \n",
       "max                       NaN        514.000000   2018.000000   \n",
       "\n",
       "       plant_name_ferc1 fuel_type_code_pudl fuel_unit  fuel_qty_burned  \\\n",
       "count             29523               29523     29343     2.952300e+04   \n",
       "unique             2315                   6         9              NaN   \n",
       "top           big stone                 gas       mcf              NaN   \n",
       "freq                156               11486     11354              NaN   \n",
       "mean                NaN                 NaN       NaN     2.622119e+06   \n",
       "std                 NaN                 NaN       NaN     9.118004e+06   \n",
       "min                 NaN                 NaN       NaN     1.000000e+00   \n",
       "25%                 NaN                 NaN       NaN     1.381700e+04   \n",
       "50%                 NaN                 NaN       NaN     2.533220e+05   \n",
       "75%                 NaN                 NaN       NaN     1.424034e+06   \n",
       "max                 NaN                 NaN       NaN     5.558942e+08   \n",
       "\n",
       "        fuel_mmbtu_per_unit  fuel_cost_per_unit_burned  \\\n",
       "count          29523.000000               29523.000000   \n",
       "unique                  NaN                        NaN   \n",
       "top                     NaN                        NaN   \n",
       "freq                    NaN                        NaN   \n",
       "mean               8.492111                 208.649031   \n",
       "std               10.600220                2854.490090   \n",
       "min                0.000001                -276.080000   \n",
       "25%                1.024000                   5.207000   \n",
       "50%                5.762694                  26.000000   \n",
       "75%               17.006000                  47.113000   \n",
       "max              341.260000              139358.000000   \n",
       "\n",
       "        fuel_cost_per_unit_delivered  fuel_cost_per_mmbtu  \n",
       "count                   2.952300e+04         29523.000000  \n",
       "unique                           NaN                  NaN  \n",
       "top                              NaN                  NaN  \n",
       "freq                             NaN                  NaN  \n",
       "mean                    9.175704e+02            19.304354  \n",
       "std                     6.877593e+04          2091.540939  \n",
       "min                    -8.749370e+02           -41.501000  \n",
       "25%                     3.778500e+00             1.940000  \n",
       "50%                     1.737100e+01             4.127000  \n",
       "75%                     4.213700e+01             7.745000  \n",
       "max                     7.964521e+06        359278.000000  "
      ]
     },
     "execution_count": 2,
     "metadata": {},
     "output_type": "execute_result"
    }
   ],
   "source": [
    "url = 'https://raw.githubusercontent.com/WalePhenomenon/climate_change/master/fuel_ferc1.csv'\n",
    "fuel_data = pd.read_csv(url, error_bad_lines = False)\n",
    "fuel_data.describe(include ='all')"
   ]
  },
  {
   "cell_type": "code",
   "execution_count": 3,
   "id": "8aafdcb0",
   "metadata": {},
   "outputs": [
    {
     "data": {
      "text/plain": [
       "record_id                         0\n",
       "utility_id_ferc1                  0\n",
       "report_year                       0\n",
       "plant_name_ferc1                  0\n",
       "fuel_type_code_pudl               0\n",
       "fuel_unit                       180\n",
       "fuel_qty_burned                   0\n",
       "fuel_mmbtu_per_unit               0\n",
       "fuel_cost_per_unit_burned         0\n",
       "fuel_cost_per_unit_delivered      0\n",
       "fuel_cost_per_mmbtu               0\n",
       "dtype: int64"
      ]
     },
     "execution_count": 3,
     "metadata": {},
     "output_type": "execute_result"
    }
   ],
   "source": [
    "fuel_data.isnull().sum()"
   ]
  },
  {
   "cell_type": "code",
   "execution_count": 4,
   "id": "c38ad91b",
   "metadata": {},
   "outputs": [
    {
     "data": {
      "text/plain": [
       "fuel_unit\n",
       "bbl        7998\n",
       "gal          84\n",
       "gramsU      464\n",
       "kgU         110\n",
       "mcf       11354\n",
       "mmbtu       180\n",
       "mwdth        95\n",
       "mwhth       100\n",
       "ton        8958\n",
       "Name: fuel_unit, dtype: int64"
      ]
     },
     "execution_count": 4,
     "metadata": {},
     "output_type": "execute_result"
    }
   ],
   "source": [
    "#use groupby to count sum of the unique value in the fuel unit column\n",
    "fuel_data.groupby('fuel_unit')['fuel_unit'].count()"
   ]
  },
  {
   "cell_type": "code",
   "execution_count": 5,
   "id": "246b78d3",
   "metadata": {},
   "outputs": [],
   "source": [
    "# replace missing values in fuel unit column with'mcf'\n",
    "fuel_data[['fuel_unit']] = fuel_data[['fuel_unit']].fillna(value = 'mcf')"
   ]
  },
  {
   "cell_type": "code",
   "execution_count": 6,
   "id": "7491533f",
   "metadata": {},
   "outputs": [
    {
     "data": {
      "text/plain": [
       "record_id                       0\n",
       "utility_id_ferc1                0\n",
       "report_year                     0\n",
       "plant_name_ferc1                0\n",
       "fuel_type_code_pudl             0\n",
       "fuel_unit                       0\n",
       "fuel_qty_burned                 0\n",
       "fuel_mmbtu_per_unit             0\n",
       "fuel_cost_per_unit_burned       0\n",
       "fuel_cost_per_unit_delivered    0\n",
       "fuel_cost_per_mmbtu             0\n",
       "dtype: int64"
      ]
     },
     "execution_count": 6,
     "metadata": {},
     "output_type": "execute_result"
    }
   ],
   "source": [
    "fuel_data.isnull().sum()"
   ]
  },
  {
   "cell_type": "code",
   "execution_count": 7,
   "id": "2827ad7c",
   "metadata": {},
   "outputs": [
    {
     "data": {
      "text/plain": [
       "report_year\n",
       "1994    1235\n",
       "1995    1201\n",
       "1996    1088\n",
       "1997    1094\n",
       "1998    1107\n",
       "1999    1050\n",
       "2000    1373\n",
       "2001    1356\n",
       "2002    1205\n",
       "2003    1211\n",
       "2004    1192\n",
       "2005    1269\n",
       "2006    1243\n",
       "2007    1264\n",
       "2008    1228\n",
       "2009    1222\n",
       "2010    1261\n",
       "2011    1240\n",
       "2012    1243\n",
       "2013    1199\n",
       "2014    1171\n",
       "2015    1093\n",
       "2016    1034\n",
       "2017     993\n",
       "2018     951\n",
       "Name: report_year, dtype: int64"
      ]
     },
     "execution_count": 7,
     "metadata": {},
     "output_type": "execute_result"
    }
   ],
   "source": [
    "fuel_data.groupby('report_year')['report_year'].count()"
   ]
  },
  {
   "cell_type": "code",
   "execution_count": 15,
   "id": "9d72b551",
   "metadata": {},
   "outputs": [
    {
     "data": {
      "text/plain": [
       "fuel_type_code_pudl\n",
       "coal        8547\n",
       "gas        11486\n",
       "nuclear      818\n",
       "oil         8064\n",
       "other        167\n",
       "waste        441\n",
       "Name: fuel_type_code_pudl, dtype: int64"
      ]
     },
     "execution_count": 15,
     "metadata": {},
     "output_type": "execute_result"
    }
   ],
   "source": [
    "fuel_data.groupby('fuel_type_code_pudl')['fuel_type_code_pudl'].count()"
   ]
  },
  {
   "cell_type": "code",
   "execution_count": 16,
   "id": "e9bd0f1a",
   "metadata": {},
   "outputs": [
    {
     "data": {
      "text/html": [
       "<div>\n",
       "<style scoped>\n",
       "    .dataframe tbody tr th:only-of-type {\n",
       "        vertical-align: middle;\n",
       "    }\n",
       "\n",
       "    .dataframe tbody tr th {\n",
       "        vertical-align: top;\n",
       "    }\n",
       "\n",
       "    .dataframe thead th {\n",
       "        text-align: right;\n",
       "    }\n",
       "</style>\n",
       "<table border=\"1\" class=\"dataframe\">\n",
       "  <thead>\n",
       "    <tr style=\"text-align: right;\">\n",
       "      <th></th>\n",
       "      <th>record_id</th>\n",
       "      <th>utility_id_ferc1</th>\n",
       "      <th>report_year</th>\n",
       "      <th>plant_name_ferc1</th>\n",
       "      <th>fuel_unit</th>\n",
       "      <th>fuel_qty_burned</th>\n",
       "      <th>fuel_mmbtu_per_unit</th>\n",
       "      <th>fuel_cost_per_unit_burned</th>\n",
       "      <th>fuel_cost_per_unit_delivered</th>\n",
       "      <th>fuel_cost_per_mmbtu</th>\n",
       "    </tr>\n",
       "    <tr>\n",
       "      <th>fuel_type_code_pudl</th>\n",
       "      <th></th>\n",
       "      <th></th>\n",
       "      <th></th>\n",
       "      <th></th>\n",
       "      <th></th>\n",
       "      <th></th>\n",
       "      <th></th>\n",
       "      <th></th>\n",
       "      <th></th>\n",
       "      <th></th>\n",
       "    </tr>\n",
       "  </thead>\n",
       "  <tbody>\n",
       "    <tr>\n",
       "      <th>coal</th>\n",
       "      <td>f1_fuel_1994_12_1_0_7</td>\n",
       "      <td>1</td>\n",
       "      <td>1994</td>\n",
       "      <td>rockport</td>\n",
       "      <td>ton</td>\n",
       "      <td>5377489.0</td>\n",
       "      <td>16.590000</td>\n",
       "      <td>18.590</td>\n",
       "      <td>18.530</td>\n",
       "      <td>1.121</td>\n",
       "    </tr>\n",
       "    <tr>\n",
       "      <th>gas</th>\n",
       "      <td>f1_fuel_1994_12_2_0_10</td>\n",
       "      <td>2</td>\n",
       "      <td>1994</td>\n",
       "      <td>chickasaw</td>\n",
       "      <td>mcf</td>\n",
       "      <td>40533.0</td>\n",
       "      <td>1.000000</td>\n",
       "      <td>2.770</td>\n",
       "      <td>2.770</td>\n",
       "      <td>2.570</td>\n",
       "    </tr>\n",
       "    <tr>\n",
       "      <th>nuclear</th>\n",
       "      <td>f1_fuel_1994_12_2_1_1</td>\n",
       "      <td>2</td>\n",
       "      <td>1994</td>\n",
       "      <td>joseph m. farley</td>\n",
       "      <td>kgU</td>\n",
       "      <td>2260.0</td>\n",
       "      <td>0.064094</td>\n",
       "      <td>28.770</td>\n",
       "      <td>0.000</td>\n",
       "      <td>0.450</td>\n",
       "    </tr>\n",
       "    <tr>\n",
       "      <th>oil</th>\n",
       "      <td>f1_fuel_1994_12_6_0_2</td>\n",
       "      <td>6</td>\n",
       "      <td>1994</td>\n",
       "      <td>clinch river</td>\n",
       "      <td>bbl</td>\n",
       "      <td>6510.0</td>\n",
       "      <td>5.875338</td>\n",
       "      <td>32.130</td>\n",
       "      <td>23.444</td>\n",
       "      <td>5.469</td>\n",
       "    </tr>\n",
       "    <tr>\n",
       "      <th>other</th>\n",
       "      <td>f1_fuel_1994_12_11_0_6</td>\n",
       "      <td>11</td>\n",
       "      <td>1994</td>\n",
       "      <td>w.f. wyman</td>\n",
       "      <td>bbl</td>\n",
       "      <td>55652.0</td>\n",
       "      <td>0.149719</td>\n",
       "      <td>14.685</td>\n",
       "      <td>15.090</td>\n",
       "      <td>2.335</td>\n",
       "    </tr>\n",
       "    <tr>\n",
       "      <th>waste</th>\n",
       "      <td>f1_fuel_1994_12_9_0_3</td>\n",
       "      <td>9</td>\n",
       "      <td>1994</td>\n",
       "      <td>b.l. england</td>\n",
       "      <td>ton</td>\n",
       "      <td>2438.0</td>\n",
       "      <td>0.015939</td>\n",
       "      <td>34.180</td>\n",
       "      <td>34.180</td>\n",
       "      <td>1.072</td>\n",
       "    </tr>\n",
       "  </tbody>\n",
       "</table>\n",
       "</div>"
      ],
      "text/plain": [
       "                                  record_id  utility_id_ferc1  report_year  \\\n",
       "fuel_type_code_pudl                                                          \n",
       "coal                  f1_fuel_1994_12_1_0_7                 1         1994   \n",
       "gas                  f1_fuel_1994_12_2_0_10                 2         1994   \n",
       "nuclear               f1_fuel_1994_12_2_1_1                 2         1994   \n",
       "oil                   f1_fuel_1994_12_6_0_2                 6         1994   \n",
       "other                f1_fuel_1994_12_11_0_6                11         1994   \n",
       "waste                 f1_fuel_1994_12_9_0_3                 9         1994   \n",
       "\n",
       "                     plant_name_ferc1 fuel_unit  fuel_qty_burned  \\\n",
       "fuel_type_code_pudl                                                \n",
       "coal                         rockport       ton        5377489.0   \n",
       "gas                         chickasaw       mcf          40533.0   \n",
       "nuclear              joseph m. farley       kgU           2260.0   \n",
       "oil                      clinch river       bbl           6510.0   \n",
       "other                      w.f. wyman       bbl          55652.0   \n",
       "waste                    b.l. england       ton           2438.0   \n",
       "\n",
       "                     fuel_mmbtu_per_unit  fuel_cost_per_unit_burned  \\\n",
       "fuel_type_code_pudl                                                   \n",
       "coal                           16.590000                     18.590   \n",
       "gas                             1.000000                      2.770   \n",
       "nuclear                         0.064094                     28.770   \n",
       "oil                             5.875338                     32.130   \n",
       "other                           0.149719                     14.685   \n",
       "waste                           0.015939                     34.180   \n",
       "\n",
       "                     fuel_cost_per_unit_delivered  fuel_cost_per_mmbtu  \n",
       "fuel_type_code_pudl                                                     \n",
       "coal                                       18.530                1.121  \n",
       "gas                                         2.770                2.570  \n",
       "nuclear                                     0.000                0.450  \n",
       "oil                                        23.444                5.469  \n",
       "other                                      15.090                2.335  \n",
       "waste                                      34.180                1.072  "
      ]
     },
     "execution_count": 16,
     "metadata": {},
     "output_type": "execute_result"
    }
   ],
   "source": [
    "fuel_data.groupby('fuel_type_code_pudl').first()"
   ]
  },
  {
   "cell_type": "code",
   "execution_count": 12,
   "id": "e242452c",
   "metadata": {},
   "outputs": [
    {
     "name": "stdout",
     "output_type": "stream",
     "text": [
      "                      record_id  utility_id_ferc1  report_year  \\\n",
      "0         f1_fuel_1994_12_1_0_7                 1         1994   \n",
      "1        f1_fuel_1994_12_1_0_10                 1         1994   \n",
      "2         f1_fuel_1994_12_2_0_1                 2         1994   \n",
      "3         f1_fuel_1994_12_2_0_7                 2         1994   \n",
      "4        f1_fuel_1994_12_2_0_10                 2         1994   \n",
      "...                         ...               ...          ...   \n",
      "18995   f1_fuel_2009_12_182_1_9               182         2009   \n",
      "18996  f1_fuel_2009_12_182_1_10               182         2009   \n",
      "18997  f1_fuel_2009_12_182_1_13               182         2009   \n",
      "18998  f1_fuel_2009_12_182_1_14               182         2009   \n",
      "18999    f1_fuel_2009_12_79_0_1                79         2009   \n",
      "\n",
      "           plant_name_ferc1 fuel_type_code_pudl fuel_unit  fuel_qty_burned  \\\n",
      "0                  rockport                coal       ton        5377489.0   \n",
      "1      rockport total plant                coal       ton       10486945.0   \n",
      "2                    gorgas                coal       ton        2978683.0   \n",
      "3                     barry                coal       ton        3739484.0   \n",
      "4                 chickasaw                 gas       mcf          40533.0   \n",
      "...                     ...                 ...       ...              ...   \n",
      "18995             lake road                 gas       mcf         340857.0   \n",
      "18996             lake road                 oil       mcf            771.0   \n",
      "18997           iatan (18%)                coal       ton         414142.0   \n",
      "18998           iatan (18%)                 oil       bbl           5761.0   \n",
      "18999              montrose                coal       ton        2050919.0   \n",
      "\n",
      "       fuel_mmbtu_per_unit  fuel_cost_per_unit_burned  \\\n",
      "0                16.590000                     18.590   \n",
      "1                16.592000                     18.580   \n",
      "2                24.130000                     39.720   \n",
      "3                23.950000                     47.210   \n",
      "4                 1.000000                      2.770   \n",
      "...                    ...                        ...   \n",
      "18995             1.000000                      4.711   \n",
      "18996             5.801544                     84.899   \n",
      "18997            16.718000                     18.509   \n",
      "18998             5.537910                     83.636   \n",
      "18999            17.160000                     29.629   \n",
      "\n",
      "       fuel_cost_per_unit_delivered  fuel_cost_per_mmbtu  \n",
      "0                            18.530                1.121  \n",
      "1                            18.530                1.120  \n",
      "2                            38.120                1.650  \n",
      "3                            45.990                1.970  \n",
      "4                             2.770                2.570  \n",
      "...                             ...                  ...  \n",
      "18995                         4.711                4.711  \n",
      "18996                        84.899               14.634  \n",
      "18997                        17.570                1.107  \n",
      "18998                        72.280               15.102  \n",
      "18999                        28.330                1.727  \n",
      "\n",
      "[19000 rows x 11 columns]\n"
     ]
    }
   ],
   "source": [
    "#Merging in pandas is like joining operations in  relational data base SQl\n",
    "fuel_df1 = fuel_data.iloc[0:19000].reset_index(drop = True)\n",
    "print(fuel_df1)"
   ]
  },
  {
   "cell_type": "code",
   "execution_count": 17,
   "id": "36e72183",
   "metadata": {},
   "outputs": [
    {
     "name": "stdout",
     "output_type": "stream",
     "text": [
      "                     record_id  utility_id_ferc1  report_year  \\\n",
      "0       f1_fuel_2009_12_79_0_2                79         2009   \n",
      "1       f1_fuel_2009_12_79_0_4                79         2009   \n",
      "2       f1_fuel_2009_12_79_0_5                79         2009   \n",
      "3       f1_fuel_2009_12_79_0_7                79         2009   \n",
      "4      f1_fuel_2009_12_79_0_10                79         2009   \n",
      "...                        ...               ...          ...   \n",
      "10518  f1_fuel_2018_12_12_0_13                12         2018   \n",
      "10519   f1_fuel_2018_12_12_1_1                12         2018   \n",
      "10520  f1_fuel_2018_12_12_1_10                12         2018   \n",
      "10521  f1_fuel_2018_12_12_1_13                12         2018   \n",
      "10522  f1_fuel_2018_12_12_1_14                12         2018   \n",
      "\n",
      "           plant_name_ferc1 fuel_type_code_pudl fuel_unit  fuel_qty_burned  \\\n",
      "0                  montrose                 oil       bbl          22912.0   \n",
      "1                hawthorn 5                coal       ton        2408123.0   \n",
      "2                hawthorn 5                 gas       mcf          82141.0   \n",
      "3            hawthorn 6 & 9                 gas       mcf        1701680.0   \n",
      "4            hawthorn 7 & 8                 gas       mcf          82601.0   \n",
      "...                     ...                 ...       ...              ...   \n",
      "10518    neil simpson ct #1                 gas       mcf          18799.0   \n",
      "10519  cheyenne prairie 58%                 gas       mcf         806730.0   \n",
      "10520     lange ct facility                 gas       mcf         104554.0   \n",
      "10521       wygen 3 bhp 52%                coal       ton         315945.0   \n",
      "10522       wygen 3 bhp 52%                 gas       mcf          17853.0   \n",
      "\n",
      "       fuel_mmbtu_per_unit  fuel_cost_per_unit_burned  \\\n",
      "0                 5.770422                     65.443   \n",
      "1                16.782000                     18.598   \n",
      "2                 1.000000                      6.238   \n",
      "3                 1.000000                      4.885   \n",
      "4                 1.000000                      5.383   \n",
      "...                    ...                        ...   \n",
      "10518             1.059000                      4.780   \n",
      "10519             1.050000                      3.650   \n",
      "10520             1.060000                      4.770   \n",
      "10521            16.108000                      3.060   \n",
      "10522             1.059000                      0.000   \n",
      "\n",
      "       fuel_cost_per_unit_delivered  fuel_cost_per_mmbtu  \n",
      "0                            67.540               11.341  \n",
      "1                            18.310                1.108  \n",
      "2                             6.238                6.238  \n",
      "3                             4.885                4.885  \n",
      "4                             5.383                5.383  \n",
      "...                             ...                  ...  \n",
      "10518                         4.780                9.030  \n",
      "10519                         3.650                6.950  \n",
      "10520                         4.770                8.990  \n",
      "10521                        14.760                1.110  \n",
      "10522                         0.000               11.680  \n",
      "\n",
      "[10523 rows x 11 columns]\n"
     ]
    }
   ],
   "source": [
    "fuel_df2 = fuel_data.iloc[19000:].reset_index(drop=True)\n",
    "print(fuel_df2 )"
   ]
  },
  {
   "cell_type": "code",
   "execution_count": 25,
   "id": "dfe1ba72",
   "metadata": {},
   "outputs": [
    {
     "name": "stdout",
     "output_type": "stream",
     "text": [
      "29523\n"
     ]
    }
   ],
   "source": [
    "#check that the length of both dataframes sum to the expected lenght \n",
    "assert len(fuel_data) == (len(fuel_df1) + len(fuel_df2))\n",
    "print(len(fuel_data))"
   ]
  },
  {
   "cell_type": "code",
   "execution_count": 26,
   "id": "6a2379ec",
   "metadata": {},
   "outputs": [
    {
     "data": {
      "text/html": [
       "<div>\n",
       "<style scoped>\n",
       "    .dataframe tbody tr th:only-of-type {\n",
       "        vertical-align: middle;\n",
       "    }\n",
       "\n",
       "    .dataframe tbody tr th {\n",
       "        vertical-align: top;\n",
       "    }\n",
       "\n",
       "    .dataframe thead th {\n",
       "        text-align: right;\n",
       "    }\n",
       "</style>\n",
       "<table border=\"1\" class=\"dataframe\">\n",
       "  <thead>\n",
       "    <tr style=\"text-align: right;\">\n",
       "      <th></th>\n",
       "      <th>record_id</th>\n",
       "      <th>utility_id_ferc1</th>\n",
       "      <th>report_year</th>\n",
       "      <th>plant_name_ferc1</th>\n",
       "      <th>fuel_type_code_pudl</th>\n",
       "      <th>fuel_unit</th>\n",
       "      <th>fuel_qty_burned</th>\n",
       "      <th>fuel_mmbtu_per_unit</th>\n",
       "      <th>fuel_cost_per_unit_burned</th>\n",
       "      <th>fuel_cost_per_unit_delivered</th>\n",
       "      <th>fuel_cost_per_mmbtu</th>\n",
       "    </tr>\n",
       "  </thead>\n",
       "  <tbody>\n",
       "  </tbody>\n",
       "</table>\n",
       "</div>"
      ],
      "text/plain": [
       "Empty DataFrame\n",
       "Columns: [record_id, utility_id_ferc1, report_year, plant_name_ferc1, fuel_type_code_pudl, fuel_unit, fuel_qty_burned, fuel_mmbtu_per_unit, fuel_cost_per_unit_burned, fuel_cost_per_unit_delivered, fuel_cost_per_mmbtu]\n",
       "Index: []"
      ]
     },
     "execution_count": 26,
     "metadata": {},
     "output_type": "execute_result"
    }
   ],
   "source": [
    "#inner merge will lose rows in both dfs\n",
    "pd.merge(fuel_df1, fuel_df2, how=\"inner\")"
   ]
  },
  {
   "cell_type": "code",
   "execution_count": 27,
   "id": "fdba2e0c",
   "metadata": {},
   "outputs": [
    {
     "data": {
      "text/html": [
       "<div>\n",
       "<style scoped>\n",
       "    .dataframe tbody tr th:only-of-type {\n",
       "        vertical-align: middle;\n",
       "    }\n",
       "\n",
       "    .dataframe tbody tr th {\n",
       "        vertical-align: top;\n",
       "    }\n",
       "\n",
       "    .dataframe thead th {\n",
       "        text-align: right;\n",
       "    }\n",
       "</style>\n",
       "<table border=\"1\" class=\"dataframe\">\n",
       "  <thead>\n",
       "    <tr style=\"text-align: right;\">\n",
       "      <th></th>\n",
       "      <th>record_id</th>\n",
       "      <th>utility_id_ferc1</th>\n",
       "      <th>report_year</th>\n",
       "      <th>plant_name_ferc1</th>\n",
       "      <th>fuel_type_code_pudl</th>\n",
       "      <th>fuel_unit</th>\n",
       "      <th>fuel_qty_burned</th>\n",
       "      <th>fuel_mmbtu_per_unit</th>\n",
       "      <th>fuel_cost_per_unit_burned</th>\n",
       "      <th>fuel_cost_per_unit_delivered</th>\n",
       "      <th>fuel_cost_per_mmbtu</th>\n",
       "    </tr>\n",
       "  </thead>\n",
       "  <tbody>\n",
       "    <tr>\n",
       "      <th>0</th>\n",
       "      <td>f1_fuel_1994_12_1_0_7</td>\n",
       "      <td>1</td>\n",
       "      <td>1994</td>\n",
       "      <td>rockport</td>\n",
       "      <td>coal</td>\n",
       "      <td>ton</td>\n",
       "      <td>5377489.0</td>\n",
       "      <td>16.590</td>\n",
       "      <td>18.59</td>\n",
       "      <td>18.53</td>\n",
       "      <td>1.121</td>\n",
       "    </tr>\n",
       "    <tr>\n",
       "      <th>1</th>\n",
       "      <td>f1_fuel_1994_12_1_0_10</td>\n",
       "      <td>1</td>\n",
       "      <td>1994</td>\n",
       "      <td>rockport total plant</td>\n",
       "      <td>coal</td>\n",
       "      <td>ton</td>\n",
       "      <td>10486945.0</td>\n",
       "      <td>16.592</td>\n",
       "      <td>18.58</td>\n",
       "      <td>18.53</td>\n",
       "      <td>1.120</td>\n",
       "    </tr>\n",
       "    <tr>\n",
       "      <th>2</th>\n",
       "      <td>f1_fuel_1994_12_2_0_1</td>\n",
       "      <td>2</td>\n",
       "      <td>1994</td>\n",
       "      <td>gorgas</td>\n",
       "      <td>coal</td>\n",
       "      <td>ton</td>\n",
       "      <td>2978683.0</td>\n",
       "      <td>24.130</td>\n",
       "      <td>39.72</td>\n",
       "      <td>38.12</td>\n",
       "      <td>1.650</td>\n",
       "    </tr>\n",
       "    <tr>\n",
       "      <th>3</th>\n",
       "      <td>f1_fuel_1994_12_2_0_7</td>\n",
       "      <td>2</td>\n",
       "      <td>1994</td>\n",
       "      <td>barry</td>\n",
       "      <td>coal</td>\n",
       "      <td>ton</td>\n",
       "      <td>3739484.0</td>\n",
       "      <td>23.950</td>\n",
       "      <td>47.21</td>\n",
       "      <td>45.99</td>\n",
       "      <td>1.970</td>\n",
       "    </tr>\n",
       "    <tr>\n",
       "      <th>4</th>\n",
       "      <td>f1_fuel_1994_12_2_0_10</td>\n",
       "      <td>2</td>\n",
       "      <td>1994</td>\n",
       "      <td>chickasaw</td>\n",
       "      <td>gas</td>\n",
       "      <td>mcf</td>\n",
       "      <td>40533.0</td>\n",
       "      <td>1.000</td>\n",
       "      <td>2.77</td>\n",
       "      <td>2.77</td>\n",
       "      <td>2.570</td>\n",
       "    </tr>\n",
       "    <tr>\n",
       "      <th>...</th>\n",
       "      <td>...</td>\n",
       "      <td>...</td>\n",
       "      <td>...</td>\n",
       "      <td>...</td>\n",
       "      <td>...</td>\n",
       "      <td>...</td>\n",
       "      <td>...</td>\n",
       "      <td>...</td>\n",
       "      <td>...</td>\n",
       "      <td>...</td>\n",
       "      <td>...</td>\n",
       "    </tr>\n",
       "    <tr>\n",
       "      <th>29518</th>\n",
       "      <td>f1_fuel_2018_12_12_0_13</td>\n",
       "      <td>12</td>\n",
       "      <td>2018</td>\n",
       "      <td>neil simpson ct #1</td>\n",
       "      <td>gas</td>\n",
       "      <td>mcf</td>\n",
       "      <td>18799.0</td>\n",
       "      <td>1.059</td>\n",
       "      <td>4.78</td>\n",
       "      <td>4.78</td>\n",
       "      <td>9.030</td>\n",
       "    </tr>\n",
       "    <tr>\n",
       "      <th>29519</th>\n",
       "      <td>f1_fuel_2018_12_12_1_1</td>\n",
       "      <td>12</td>\n",
       "      <td>2018</td>\n",
       "      <td>cheyenne prairie 58%</td>\n",
       "      <td>gas</td>\n",
       "      <td>mcf</td>\n",
       "      <td>806730.0</td>\n",
       "      <td>1.050</td>\n",
       "      <td>3.65</td>\n",
       "      <td>3.65</td>\n",
       "      <td>6.950</td>\n",
       "    </tr>\n",
       "    <tr>\n",
       "      <th>29520</th>\n",
       "      <td>f1_fuel_2018_12_12_1_10</td>\n",
       "      <td>12</td>\n",
       "      <td>2018</td>\n",
       "      <td>lange ct facility</td>\n",
       "      <td>gas</td>\n",
       "      <td>mcf</td>\n",
       "      <td>104554.0</td>\n",
       "      <td>1.060</td>\n",
       "      <td>4.77</td>\n",
       "      <td>4.77</td>\n",
       "      <td>8.990</td>\n",
       "    </tr>\n",
       "    <tr>\n",
       "      <th>29521</th>\n",
       "      <td>f1_fuel_2018_12_12_1_13</td>\n",
       "      <td>12</td>\n",
       "      <td>2018</td>\n",
       "      <td>wygen 3 bhp 52%</td>\n",
       "      <td>coal</td>\n",
       "      <td>ton</td>\n",
       "      <td>315945.0</td>\n",
       "      <td>16.108</td>\n",
       "      <td>3.06</td>\n",
       "      <td>14.76</td>\n",
       "      <td>1.110</td>\n",
       "    </tr>\n",
       "    <tr>\n",
       "      <th>29522</th>\n",
       "      <td>f1_fuel_2018_12_12_1_14</td>\n",
       "      <td>12</td>\n",
       "      <td>2018</td>\n",
       "      <td>wygen 3 bhp 52%</td>\n",
       "      <td>gas</td>\n",
       "      <td>mcf</td>\n",
       "      <td>17853.0</td>\n",
       "      <td>1.059</td>\n",
       "      <td>0.00</td>\n",
       "      <td>0.00</td>\n",
       "      <td>11.680</td>\n",
       "    </tr>\n",
       "  </tbody>\n",
       "</table>\n",
       "<p>29523 rows × 11 columns</p>\n",
       "</div>"
      ],
      "text/plain": [
       "                     record_id  utility_id_ferc1  report_year  \\\n",
       "0        f1_fuel_1994_12_1_0_7                 1         1994   \n",
       "1       f1_fuel_1994_12_1_0_10                 1         1994   \n",
       "2        f1_fuel_1994_12_2_0_1                 2         1994   \n",
       "3        f1_fuel_1994_12_2_0_7                 2         1994   \n",
       "4       f1_fuel_1994_12_2_0_10                 2         1994   \n",
       "...                        ...               ...          ...   \n",
       "29518  f1_fuel_2018_12_12_0_13                12         2018   \n",
       "29519   f1_fuel_2018_12_12_1_1                12         2018   \n",
       "29520  f1_fuel_2018_12_12_1_10                12         2018   \n",
       "29521  f1_fuel_2018_12_12_1_13                12         2018   \n",
       "29522  f1_fuel_2018_12_12_1_14                12         2018   \n",
       "\n",
       "           plant_name_ferc1 fuel_type_code_pudl fuel_unit  fuel_qty_burned  \\\n",
       "0                  rockport                coal       ton        5377489.0   \n",
       "1      rockport total plant                coal       ton       10486945.0   \n",
       "2                    gorgas                coal       ton        2978683.0   \n",
       "3                     barry                coal       ton        3739484.0   \n",
       "4                 chickasaw                 gas       mcf          40533.0   \n",
       "...                     ...                 ...       ...              ...   \n",
       "29518    neil simpson ct #1                 gas       mcf          18799.0   \n",
       "29519  cheyenne prairie 58%                 gas       mcf         806730.0   \n",
       "29520     lange ct facility                 gas       mcf         104554.0   \n",
       "29521       wygen 3 bhp 52%                coal       ton         315945.0   \n",
       "29522       wygen 3 bhp 52%                 gas       mcf          17853.0   \n",
       "\n",
       "       fuel_mmbtu_per_unit  fuel_cost_per_unit_burned  \\\n",
       "0                   16.590                      18.59   \n",
       "1                   16.592                      18.58   \n",
       "2                   24.130                      39.72   \n",
       "3                   23.950                      47.21   \n",
       "4                    1.000                       2.77   \n",
       "...                    ...                        ...   \n",
       "29518                1.059                       4.78   \n",
       "29519                1.050                       3.65   \n",
       "29520                1.060                       4.77   \n",
       "29521               16.108                       3.06   \n",
       "29522                1.059                       0.00   \n",
       "\n",
       "       fuel_cost_per_unit_delivered  fuel_cost_per_mmbtu  \n",
       "0                             18.53                1.121  \n",
       "1                             18.53                1.120  \n",
       "2                             38.12                1.650  \n",
       "3                             45.99                1.970  \n",
       "4                              2.77                2.570  \n",
       "...                             ...                  ...  \n",
       "29518                          4.78                9.030  \n",
       "29519                          3.65                6.950  \n",
       "29520                          4.77                8.990  \n",
       "29521                         14.76                1.110  \n",
       "29522                          0.00               11.680  \n",
       "\n",
       "[29523 rows x 11 columns]"
      ]
     },
     "execution_count": 27,
     "metadata": {},
     "output_type": "execute_result"
    }
   ],
   "source": [
    "#outer lose rows in both dfs\n",
    "pd.merge(fuel_df1, fuel_df2, how=\"outer\")"
   ]
  },
  {
   "cell_type": "code",
   "execution_count": 28,
   "id": "7b79f10a",
   "metadata": {},
   "outputs": [
    {
     "data": {
      "text/html": [
       "<div>\n",
       "<style scoped>\n",
       "    .dataframe tbody tr th:only-of-type {\n",
       "        vertical-align: middle;\n",
       "    }\n",
       "\n",
       "    .dataframe tbody tr th {\n",
       "        vertical-align: top;\n",
       "    }\n",
       "\n",
       "    .dataframe thead th {\n",
       "        text-align: right;\n",
       "    }\n",
       "</style>\n",
       "<table border=\"1\" class=\"dataframe\">\n",
       "  <thead>\n",
       "    <tr style=\"text-align: right;\">\n",
       "      <th></th>\n",
       "      <th>record_id</th>\n",
       "      <th>utility_id_ferc1</th>\n",
       "      <th>report_year</th>\n",
       "      <th>plant_name_ferc1</th>\n",
       "      <th>fuel_type_code_pudl</th>\n",
       "      <th>fuel_unit</th>\n",
       "      <th>fuel_qty_burned</th>\n",
       "      <th>fuel_mmbtu_per_unit</th>\n",
       "      <th>fuel_cost_per_unit_burned</th>\n",
       "      <th>fuel_cost_per_unit_delivered</th>\n",
       "      <th>fuel_cost_per_mmbtu</th>\n",
       "    </tr>\n",
       "  </thead>\n",
       "  <tbody>\n",
       "    <tr>\n",
       "      <th>0</th>\n",
       "      <td>f1_fuel_1994_12_1_0_7</td>\n",
       "      <td>1</td>\n",
       "      <td>1994</td>\n",
       "      <td>rockport</td>\n",
       "      <td>coal</td>\n",
       "      <td>ton</td>\n",
       "      <td>5377489.0</td>\n",
       "      <td>16.590000</td>\n",
       "      <td>18.590</td>\n",
       "      <td>18.530</td>\n",
       "      <td>1.121</td>\n",
       "    </tr>\n",
       "    <tr>\n",
       "      <th>1</th>\n",
       "      <td>f1_fuel_1994_12_1_0_10</td>\n",
       "      <td>1</td>\n",
       "      <td>1994</td>\n",
       "      <td>rockport total plant</td>\n",
       "      <td>coal</td>\n",
       "      <td>ton</td>\n",
       "      <td>10486945.0</td>\n",
       "      <td>16.592000</td>\n",
       "      <td>18.580</td>\n",
       "      <td>18.530</td>\n",
       "      <td>1.120</td>\n",
       "    </tr>\n",
       "    <tr>\n",
       "      <th>2</th>\n",
       "      <td>f1_fuel_1994_12_2_0_1</td>\n",
       "      <td>2</td>\n",
       "      <td>1994</td>\n",
       "      <td>gorgas</td>\n",
       "      <td>coal</td>\n",
       "      <td>ton</td>\n",
       "      <td>2978683.0</td>\n",
       "      <td>24.130000</td>\n",
       "      <td>39.720</td>\n",
       "      <td>38.120</td>\n",
       "      <td>1.650</td>\n",
       "    </tr>\n",
       "    <tr>\n",
       "      <th>3</th>\n",
       "      <td>f1_fuel_1994_12_2_0_7</td>\n",
       "      <td>2</td>\n",
       "      <td>1994</td>\n",
       "      <td>barry</td>\n",
       "      <td>coal</td>\n",
       "      <td>ton</td>\n",
       "      <td>3739484.0</td>\n",
       "      <td>23.950000</td>\n",
       "      <td>47.210</td>\n",
       "      <td>45.990</td>\n",
       "      <td>1.970</td>\n",
       "    </tr>\n",
       "    <tr>\n",
       "      <th>4</th>\n",
       "      <td>f1_fuel_1994_12_2_0_10</td>\n",
       "      <td>2</td>\n",
       "      <td>1994</td>\n",
       "      <td>chickasaw</td>\n",
       "      <td>gas</td>\n",
       "      <td>mcf</td>\n",
       "      <td>40533.0</td>\n",
       "      <td>1.000000</td>\n",
       "      <td>2.770</td>\n",
       "      <td>2.770</td>\n",
       "      <td>2.570</td>\n",
       "    </tr>\n",
       "    <tr>\n",
       "      <th>...</th>\n",
       "      <td>...</td>\n",
       "      <td>...</td>\n",
       "      <td>...</td>\n",
       "      <td>...</td>\n",
       "      <td>...</td>\n",
       "      <td>...</td>\n",
       "      <td>...</td>\n",
       "      <td>...</td>\n",
       "      <td>...</td>\n",
       "      <td>...</td>\n",
       "      <td>...</td>\n",
       "    </tr>\n",
       "    <tr>\n",
       "      <th>18995</th>\n",
       "      <td>f1_fuel_2009_12_182_1_9</td>\n",
       "      <td>182</td>\n",
       "      <td>2009</td>\n",
       "      <td>lake road</td>\n",
       "      <td>gas</td>\n",
       "      <td>mcf</td>\n",
       "      <td>340857.0</td>\n",
       "      <td>1.000000</td>\n",
       "      <td>4.711</td>\n",
       "      <td>4.711</td>\n",
       "      <td>4.711</td>\n",
       "    </tr>\n",
       "    <tr>\n",
       "      <th>18996</th>\n",
       "      <td>f1_fuel_2009_12_182_1_10</td>\n",
       "      <td>182</td>\n",
       "      <td>2009</td>\n",
       "      <td>lake road</td>\n",
       "      <td>oil</td>\n",
       "      <td>mcf</td>\n",
       "      <td>771.0</td>\n",
       "      <td>5.801544</td>\n",
       "      <td>84.899</td>\n",
       "      <td>84.899</td>\n",
       "      <td>14.634</td>\n",
       "    </tr>\n",
       "    <tr>\n",
       "      <th>18997</th>\n",
       "      <td>f1_fuel_2009_12_182_1_13</td>\n",
       "      <td>182</td>\n",
       "      <td>2009</td>\n",
       "      <td>iatan (18%)</td>\n",
       "      <td>coal</td>\n",
       "      <td>ton</td>\n",
       "      <td>414142.0</td>\n",
       "      <td>16.718000</td>\n",
       "      <td>18.509</td>\n",
       "      <td>17.570</td>\n",
       "      <td>1.107</td>\n",
       "    </tr>\n",
       "    <tr>\n",
       "      <th>18998</th>\n",
       "      <td>f1_fuel_2009_12_182_1_14</td>\n",
       "      <td>182</td>\n",
       "      <td>2009</td>\n",
       "      <td>iatan (18%)</td>\n",
       "      <td>oil</td>\n",
       "      <td>bbl</td>\n",
       "      <td>5761.0</td>\n",
       "      <td>5.537910</td>\n",
       "      <td>83.636</td>\n",
       "      <td>72.280</td>\n",
       "      <td>15.102</td>\n",
       "    </tr>\n",
       "    <tr>\n",
       "      <th>18999</th>\n",
       "      <td>f1_fuel_2009_12_79_0_1</td>\n",
       "      <td>79</td>\n",
       "      <td>2009</td>\n",
       "      <td>montrose</td>\n",
       "      <td>coal</td>\n",
       "      <td>ton</td>\n",
       "      <td>2050919.0</td>\n",
       "      <td>17.160000</td>\n",
       "      <td>29.629</td>\n",
       "      <td>28.330</td>\n",
       "      <td>1.727</td>\n",
       "    </tr>\n",
       "  </tbody>\n",
       "</table>\n",
       "<p>19000 rows × 11 columns</p>\n",
       "</div>"
      ],
      "text/plain": [
       "                      record_id  utility_id_ferc1  report_year  \\\n",
       "0         f1_fuel_1994_12_1_0_7                 1         1994   \n",
       "1        f1_fuel_1994_12_1_0_10                 1         1994   \n",
       "2         f1_fuel_1994_12_2_0_1                 2         1994   \n",
       "3         f1_fuel_1994_12_2_0_7                 2         1994   \n",
       "4        f1_fuel_1994_12_2_0_10                 2         1994   \n",
       "...                         ...               ...          ...   \n",
       "18995   f1_fuel_2009_12_182_1_9               182         2009   \n",
       "18996  f1_fuel_2009_12_182_1_10               182         2009   \n",
       "18997  f1_fuel_2009_12_182_1_13               182         2009   \n",
       "18998  f1_fuel_2009_12_182_1_14               182         2009   \n",
       "18999    f1_fuel_2009_12_79_0_1                79         2009   \n",
       "\n",
       "           plant_name_ferc1 fuel_type_code_pudl fuel_unit  fuel_qty_burned  \\\n",
       "0                  rockport                coal       ton        5377489.0   \n",
       "1      rockport total plant                coal       ton       10486945.0   \n",
       "2                    gorgas                coal       ton        2978683.0   \n",
       "3                     barry                coal       ton        3739484.0   \n",
       "4                 chickasaw                 gas       mcf          40533.0   \n",
       "...                     ...                 ...       ...              ...   \n",
       "18995             lake road                 gas       mcf         340857.0   \n",
       "18996             lake road                 oil       mcf            771.0   \n",
       "18997           iatan (18%)                coal       ton         414142.0   \n",
       "18998           iatan (18%)                 oil       bbl           5761.0   \n",
       "18999              montrose                coal       ton        2050919.0   \n",
       "\n",
       "       fuel_mmbtu_per_unit  fuel_cost_per_unit_burned  \\\n",
       "0                16.590000                     18.590   \n",
       "1                16.592000                     18.580   \n",
       "2                24.130000                     39.720   \n",
       "3                23.950000                     47.210   \n",
       "4                 1.000000                      2.770   \n",
       "...                    ...                        ...   \n",
       "18995             1.000000                      4.711   \n",
       "18996             5.801544                     84.899   \n",
       "18997            16.718000                     18.509   \n",
       "18998             5.537910                     83.636   \n",
       "18999            17.160000                     29.629   \n",
       "\n",
       "       fuel_cost_per_unit_delivered  fuel_cost_per_mmbtu  \n",
       "0                            18.530                1.121  \n",
       "1                            18.530                1.120  \n",
       "2                            38.120                1.650  \n",
       "3                            45.990                1.970  \n",
       "4                             2.770                2.570  \n",
       "...                             ...                  ...  \n",
       "18995                         4.711                4.711  \n",
       "18996                        84.899               14.634  \n",
       "18997                        17.570                1.107  \n",
       "18998                        72.280               15.102  \n",
       "18999                        28.330                1.727  \n",
       "\n",
       "[19000 rows x 11 columns]"
      ]
     },
     "execution_count": 28,
     "metadata": {},
     "output_type": "execute_result"
    }
   ],
   "source": [
    "#left merge will lose rows in both dfs\n",
    "pd.merge(fuel_df1, fuel_df2, how=\"left\")"
   ]
  },
  {
   "cell_type": "code",
   "execution_count": 30,
   "id": "5df83ad3",
   "metadata": {},
   "outputs": [
    {
     "ename": "NameError",
     "evalue": "name 'data_to_concat' is not defined",
     "output_type": "error",
     "traceback": [
      "\u001b[1;31m---------------------------------------------------------------------------\u001b[0m",
      "\u001b[1;31mNameError\u001b[0m                                 Traceback (most recent call last)",
      "\u001b[1;32m~\\AppData\\Local\\Temp/ipykernel_10280/4041997229.py\u001b[0m in \u001b[0;36m<module>\u001b[1;34m\u001b[0m\n\u001b[1;32m----> 1\u001b[1;33m \u001b[0mpd\u001b[0m\u001b[1;33m.\u001b[0m\u001b[0mconcat\u001b[0m\u001b[1;33m(\u001b[0m\u001b[1;33m[\u001b[0m\u001b[0mfuel_data\u001b[0m\u001b[1;33m,\u001b[0m \u001b[0mdata_to_concat\u001b[0m\u001b[1;33m]\u001b[0m\u001b[1;33m)\u001b[0m\u001b[1;33m.\u001b[0m\u001b[0mreset_index\u001b[0m\u001b[1;33m(\u001b[0m\u001b[0mdrop\u001b[0m\u001b[1;33m=\u001b[0m\u001b[1;32mTrue\u001b[0m\u001b[1;33m)\u001b[0m\u001b[1;33m\u001b[0m\u001b[1;33m\u001b[0m\u001b[0m\n\u001b[0m",
      "\u001b[1;31mNameError\u001b[0m: name 'data_to_concat' is not defined"
     ]
    }
   ],
   "source": [
    "#to concatenate \n",
    "pd.concat([fuel_data, data_to_concat]).reset_index(drop=True)"
   ]
  },
  {
   "cell_type": "code",
   "execution_count": 32,
   "id": "d2c1f235",
   "metadata": {},
   "outputs": [
    {
     "data": {
      "text/plain": [
       "False"
      ]
     },
     "execution_count": 32,
     "metadata": {},
     "output_type": "execute_result"
    }
   ],
   "source": [
    "# to check for duplicate rows\n",
    "fuel_data.duplicated().any()"
   ]
  },
  {
   "cell_type": "markdown",
   "id": "631a3fe6",
   "metadata": {},
   "source": [
    "# data viz and representation in python"
   ]
  },
  {
   "cell_type": "code",
   "execution_count": 33,
   "id": "4bd3257d",
   "metadata": {},
   "outputs": [
    {
     "name": "stderr",
     "output_type": "stream",
     "text": [
      "Matplotlib is building the font cache; this may take a moment.\n"
     ]
    }
   ],
   "source": [
    "#Importing plotting library\n",
    "import matplotlib.pyplot as plt"
   ]
  },
  {
   "cell_type": "code",
   "execution_count": 34,
   "id": "97b75022",
   "metadata": {},
   "outputs": [],
   "source": [
    "import seaborn as sns"
   ]
  },
  {
   "cell_type": "code",
   "execution_count": 35,
   "id": "9b45f1ea",
   "metadata": {},
   "outputs": [
    {
     "data": {
      "text/plain": [
       "<Figure size 504x288 with 0 Axes>"
      ]
     },
     "execution_count": 35,
     "metadata": {},
     "output_type": "execute_result"
    },
    {
     "data": {
      "text/plain": [
       "<Figure size 504x288 with 0 Axes>"
      ]
     },
     "metadata": {},
     "output_type": "display_data"
    }
   ],
   "source": [
    "plt.figure(figsize=(7,4))"
   ]
  },
  {
   "cell_type": "code",
   "execution_count": 36,
   "id": "3cf51cc9",
   "metadata": {},
   "outputs": [
    {
     "data": {
      "text/plain": [
       "(array([0. , 0.2, 0.4, 0.6, 0.8, 1. ]),\n",
       " [Text(0, 0, ''),\n",
       "  Text(0, 0, ''),\n",
       "  Text(0, 0, ''),\n",
       "  Text(0, 0, ''),\n",
       "  Text(0, 0, ''),\n",
       "  Text(0, 0, '')])"
      ]
     },
     "execution_count": 36,
     "metadata": {},
     "output_type": "execute_result"
    },
    {
     "data": {
      "image/png": "[encoded data removed]",
      "text/plain": [
       "<Figure size 432x288 with 1 Axes>"
      ]
     },
     "metadata": {
      "needs_background": "light"
     },
     "output_type": "display_data"
    }
   ],
   "source": [
    "plt.xticks(rotation=90)"
   ]
  },
  {
   "cell_type": "code",
   "execution_count": 43,
   "id": "ed87b4cc",
   "metadata": {},
   "outputs": [],
   "source": [
    "fuel_unit = pd.DataFrame({'unit': ['BBL', 'GAL', 'GRAMSU', 'KGU', 'MCF', 'MMBTU', 'MWDTH', 'MWHTH', 'TON'], 'count': [7998, 84, 464, 110, 11354, 180, 95, 100, 8958]})"
   ]
  },
  {
   "cell_type": "code",
   "execution_count": 44,
   "id": "1464d072",
   "metadata": {},
   "outputs": [
    {
     "name": "stdout",
     "output_type": "stream",
     "text": [
      "     unit  count\n",
      "0     BBL   7998\n",
      "1     GAL     84\n",
      "2  GRAMSU    464\n",
      "3     KGU    110\n",
      "4     MCF  11354\n",
      "5   MMBTU    180\n",
      "6   MWDTH     95\n",
      "7   MWHTH    100\n",
      "8     TON   8958\n"
     ]
    }
   ],
   "source": [
    "print(fuel_unit)"
   ]
  },
  {
   "cell_type": "code",
   "execution_count": 48,
   "id": "8ae4b082",
   "metadata": {},
   "outputs": [
    {
     "data": {
      "text/plain": [
       "Text(0.5, 0, 'fuel_unit')"
      ]
     },
     "execution_count": 48,
     "metadata": {},
     "output_type": "execute_result"
    },
    {
     "data": {
      "image/png": "[encoded data removed]",
      "text/plain": [
       "<Figure size 432x288 with 1 Axes>"
      ]
     },
     "metadata": {
      "needs_background": "light"
     },
     "output_type": "display_data"
    }
   ],
   "source": [
    "sns.barplot(data=fuel_unit, x= 'unit', y='count')\n",
    "plt.xlabel('fuel_unit')"
   ]
  },
  {
   "cell_type": "code",
   "execution_count": 50,
   "id": "5d9e3044",
   "metadata": {},
   "outputs": [
    {
     "data": {
      "text/plain": [
       "Text(0.5, 0, 'Fuel Unit')"
      ]
     },
     "execution_count": 50,
     "metadata": {},
     "output_type": "execute_result"
    },
    {
     "data": {
      "image/png": "[encoded data removed]",
      "text/plain": [
       "<Figure size 432x288 with 1 Axes>"
      ]
     },
     "metadata": {
      "needs_background": "light"
     },
     "output_type": "display_data"
    }
   ],
   "source": [
    "g=sns.barplot(data=fuel_unit, x= 'unit', y='count')\n",
    "g.set_yscale ('log')\n",
    "g.set_ylim(1, 12000)\n",
    "plt.xlabel('Fuel Unit')"
   ]
  },
  {
   "cell_type": "code",
   "execution_count": 51,
   "id": "d37f0dab",
   "metadata": {},
   "outputs": [
    {
     "data": {
      "text/plain": [
       "Text(0.5, 0, 'Fuel Unit')"
      ]
     },
     "execution_count": 51,
     "metadata": {},
     "output_type": "execute_result"
    },
    {
     "data": {
      "image/png": "[encoded data removed]",
      "text/plain": [
       "<Figure size 432x288 with 1 Axes>"
      ]
     },
     "metadata": {
      "needs_background": "light"
     },
     "output_type": "display_data"
    }
   ],
   "source": [
    "plt.xticks(rotation=90)\n",
    "g=sns.barplot(data=fuel_unit, x= 'unit', y='count')\n",
    "g.set_yscale ('log')\n",
    "g.set_ylim(1, 12000)\n",
    "plt.xlabel('Fuel Unit')"
   ]
  },
  {
   "cell_type": "code",
   "execution_count": null,
   "id": "54626b13",
   "metadata": {},
   "outputs": [],
   "source": [
    "g=sns.barplot(data=fuel_unit, x= 'unit', y='count')\n",
    "g.set_yscale ('log')\n",
    "g.set_ylim(1, 12000)\n",
    "plt.xlabel('Fuel Unit')"
   ]
  },
  {
   "cell_type": "code",
   "execution_count": 70,
   "id": "5ccddfc3",
   "metadata": {},
   "outputs": [],
   "source": [
    "#select a sample pf the dataset\n",
    "sample_df= fuel_data.sample(n=50, random_state=4)"
   ]
  },
  {
   "cell_type": "code",
   "execution_count": 71,
   "id": "bc495c43",
   "metadata": {},
   "outputs": [
    {
     "data": {
      "text/plain": [
       "<AxesSubplot:xlabel='utility_id_ferc1', ylabel='fuel_cost_per_mmbtu'>"
      ]
     },
     "execution_count": 71,
     "metadata": {},
     "output_type": "execute_result"
    },
    {
     "data": {
      "image/png": "[encoded data removed]",
      "text/plain": [
       "<Figure size 432x288 with 1 Axes>"
      ]
     },
     "metadata": {
      "needs_background": "light"
     },
     "output_type": "display_data"
    }
   ],
   "source": [
    "sns.regplot(x=sample_df['utility_id_ferc1'], y=sample_df['fuel_cost_per_mmbtu'], fit_reg=False)"
   ]
  },
  {
   "cell_type": "code",
   "execution_count": 81,
   "id": "4f6632ac",
   "metadata": {},
   "outputs": [
    {
     "data": {
      "text/plain": [
       "<AxesSubplot:xlabel='fuel_type_code_pudl', ylabel='utility_id_ferc1'>"
      ]
     },
     "execution_count": 81,
     "metadata": {},
     "output_type": "execute_result"
    },
    {
     "data": {
      "image/png": "[encoded data removed]",
      "text/plain": [
       "<Figure size 432x288 with 1 Axes>"
      ]
     },
     "metadata": {
      "needs_background": "light"
     },
     "output_type": "display_data"
    }
   ],
   "source": [
    "sns.boxplot(x='fuel_type_code_pudl', y='utility_id_ferc1', palette = ['r', 'g'],  data=fuel_data)"
   ]
  },
  {
   "cell_type": "code",
   "execution_count": 84,
   "id": "1bbfba29",
   "metadata": {},
   "outputs": [
    {
     "data": {
      "text/plain": [
       "<AxesSubplot:xlabel='fuel_cost_per_unit_burned', ylabel='Density'>"
      ]
     },
     "execution_count": 84,
     "metadata": {},
     "output_type": "execute_result"
    },
    {
     "data": {
      "image/png": "[encoded data removed]",
      "text/plain": [
       "<Figure size 432x288 with 1 Axes>"
      ]
     },
     "metadata": {
      "needs_background": "light"
     },
     "output_type": "display_data"
    }
   ],
   "source": [
    "sns.kdeplot(sample_df['fuel_cost_per_unit_burned'], shade=True, color='m')"
   ]
  }
 ],
 "metadata": {
  "kernelspec": {
   "display_name": "Python 3 (ipykernel)",
   "language": "python",
   "name": "python3"
  },
  "language_info": {
   "codemirror_mode": {
    "name": "ipython",
    "version": 3
   },
   "file_extension": ".py",
   "mimetype": "text/x-python",
   "name": "python",
   "nbconvert_exporter": "python",
   "pygments_lexer": "ipython3",
   "version": "3.9.7"
  }
 },
 "nbformat": 4,
 "nbformat_minor": 5
}
